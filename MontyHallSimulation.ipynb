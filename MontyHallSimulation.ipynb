{
  "nbformat": 4,
  "nbformat_minor": 0,
  "metadata": {
    "colab": {
      "name": "MontyHallSimulation.ipynb",
      "provenance": [],
      "authorship_tag": "ABX9TyOtdPHapQPxVbfpVAtZidJR",
      "include_colab_link": true
    },
    "kernelspec": {
      "name": "python3",
      "display_name": "Python 3"
    }
  },
  "cells": [
    {
      "cell_type": "markdown",
      "metadata": {
        "id": "view-in-github",
        "colab_type": "text"
      },
      "source": [
        "<a href=\"https://colab.research.google.com/github/javajerry/Python_Fun_Stuffs/blob/main/MontyHallSimulation.ipynb\" target=\"_parent\"><img src=\"https://colab.research.google.com/assets/colab-badge.svg\" alt=\"Open In Colab\"/></a>"
      ]
    },
    {
      "cell_type": "code",
      "metadata": {
        "id": "6ZH8loDtLGk0"
      },
      "source": [
        "# Description: This is Monty Hall Simulation"
      ],
      "execution_count": null,
      "outputs": []
    },
    {
      "cell_type": "code",
      "metadata": {
        "id": "2gFvaYq9LQkk"
      },
      "source": [
        "#Import the libaries\n",
        "import random\n",
        "import matplotlib.pyplot as plt\n",
        "plt.style.use('fivethirtyeight')"
      ],
      "execution_count": 1,
      "outputs": []
    },
    {
      "cell_type": "code",
      "metadata": {
        "id": "PgpQrJmJLeAT"
      },
      "source": [
        "#Create a function for the host to reveal a door that doesn't contain the prize\n",
        "# and a door that isn't the contestants/platers original choice\n",
        "def get_non_prize_door(host, num_doors, player_choice):\n",
        "  i = 1\n",
        "  while (i==host or i==player_choice):\n",
        "    i = (i+1)%(num_doors)\n",
        "\n",
        "  return i"
      ],
      "execution_count": 7,
      "outputs": []
    },
    {
      "cell_type": "code",
      "metadata": {
        "id": "rAAVNolrMW4H"
      },
      "source": [
        "#Create a function to have the player switch to the other unopened door\n",
        "def switch_function(shown_door, num_doors, player_choice):\n",
        "  i = 1\n",
        "  while (i==shown_door or i==player_choice):\n",
        "    i = (i+1)%(num_doors)\n",
        "\n",
        "  return i"
      ],
      "execution_count": 8,
      "outputs": []
    },
    {
      "cell_type": "code",
      "metadata": {
        "id": "oxETdPGgNBDt"
      },
      "source": [
        "#Create a function to simulate the game\n",
        "def monty_hall_game(switch, num_tests):\n",
        "  #number of win count when player chose to switch\n",
        "  win_switch_cnt = 0\n",
        "  win_no_switch_cnt = 0\n",
        "  #number of lose coount when player chose to switch\n",
        "  lose_switch_cnt = 0\n",
        "  lose_no_switch_cnt = 0\n",
        "\n",
        "  doors = [0,1,2]\n",
        "  num_doors = len(doors)\n",
        "\n",
        "  #Loop through the number of times the contestant can play the game\n",
        "  for i in range(0, num_tests):\n",
        "    door_with_prize = random.randint(0, num_doors-1) #Randomly choose a door between 0 and 2\n",
        "    host = door_with_prize\n",
        "\n",
        "    player_choice = random.randint(0, num_doors-1)\n",
        "    original_player_choice = player_choice\n",
        "\n",
        "    shown_door = get_non_prize_door(host, num_doors, player_choice)\n",
        "\n",
        "    #If the player chooses to always switch, then allow the player to switch \n",
        "    #their original chosen door to the unopened door\n",
        "    if switch == True:\n",
        "      player_choice = switch_function(shown_door, num_doors, player_choice)\n",
        "\n",
        "    if player_choice == door_with_prize and switch == False:\n",
        "      #Then the player wins from not switching\n",
        "      print('Player Wins (No Switch) - The player chose door:', player_choice, 'Original door choice:', original_player_choice, 'Door contains Prize:', door_with_prize, 'Shown Door:', shown_door)\n",
        "      win_no_switch_cnt = win_no_switch_cnt + 1\n",
        "    elif player_choice == door_with_prize and switch == True:\n",
        "      #Then the player wins from switching\n",
        "      print('Player Wins (Switch) - The player chose door:', player_choice, 'Original door choice:', original_player_choice, 'Door contains Prize:', door_with_prize, 'Shown Door:', shown_door)\n",
        "      win_switch_cnt = win_switch_cnt + 1\n",
        "    elif player_choice != door_with_prize and switch == False:\n",
        "      #Then the player lost from not switching\n",
        "      print('player lose (No Switch) - The player chose door:', player_choice, 'Original door choice:', original_player_choice, 'Door contains Prize:', door_with_prize, 'Shown Door:', shown_door)\n",
        "      lose_no_switch_cnt = lose_no_switch_cnt + 1\n",
        "    elif player_choice != door_with_prize and switch == True:\n",
        "      #Then the player lost from switching\n",
        "      print('player lose (Switch) - The player chose door:', player_choice, 'Original door choice:', original_player_choice, 'Door contains Prize:', door_with_prize, 'Shown Door:', shown_door)\n",
        "      lose_switch_cnt = lose_switch_cnt + 1\n",
        "    else:\n",
        "      print('SOMETHING IS WRONG')\n",
        "\n",
        "  return win_no_switch_cnt, win_switch_cnt, lose_no_switch_cnt, lose_switch_cnt, num_tests"
      ],
      "execution_count": 19,
      "outputs": []
    },
    {
      "cell_type": "code",
      "metadata": {
        "colab": {
          "base_uri": "https://localhost:8080/"
        },
        "id": "PWXChJS3aRtB",
        "outputId": "aa03861d-ba11-4954-e637-56de667467d6"
      },
      "source": [
        "#Play the game\n",
        "x = monty_hall_game(True, 10)"
      ],
      "execution_count": 20,
      "outputs": [
        {
          "output_type": "stream",
          "text": [
            "Player Wins (Switch) - The player chose door: 2 Original door choice: 0 Door contains Prize: 2 Shown Door: 1\n",
            "player lose (Switch) - The player chose door: 0 Original door choice: 2 Door contains Prize: 2 Shown Door: 1\n",
            "Player Wins (Switch) - The player chose door: 0 Original door choice: 1 Door contains Prize: 0 Shown Door: 2\n",
            "Player Wins (Switch) - The player chose door: 2 Original door choice: 0 Door contains Prize: 2 Shown Door: 1\n",
            "player lose (Switch) - The player chose door: 2 Original door choice: 0 Door contains Prize: 0 Shown Door: 1\n",
            "player lose (Switch) - The player chose door: 2 Original door choice: 0 Door contains Prize: 0 Shown Door: 1\n",
            "Player Wins (Switch) - The player chose door: 1 Original door choice: 0 Door contains Prize: 1 Shown Door: 2\n",
            "Player Wins (Switch) - The player chose door: 1 Original door choice: 2 Door contains Prize: 1 Shown Door: 0\n",
            "Player Wins (Switch) - The player chose door: 1 Original door choice: 0 Door contains Prize: 1 Shown Door: 2\n",
            "Player Wins (Switch) - The player chose door: 0 Original door choice: 2 Door contains Prize: 0 Shown Door: 1\n"
          ],
          "name": "stdout"
        }
      ]
    },
    {
      "cell_type": "code",
      "metadata": {
        "colab": {
          "base_uri": "https://localhost:8080/"
        },
        "id": "5sz2nUY4oLl9",
        "outputId": "f7bde278-8b66-47b3-f42e-ffac093f1884"
      },
      "source": [
        "#Get the win and lost percentage for switching and not switching\n",
        "print('Win switch %: ', x[1]/x[4])\n",
        "print('Lose switch %: ', x[3]/x[4])\n",
        "print('Win No switch %: ', x[0]/x[4])\n",
        "print('Lose No switch %: ', x[2]/x[4])"
      ],
      "execution_count": 21,
      "outputs": [
        {
          "output_type": "stream",
          "text": [
            "Win switch %:  0.7\n",
            "Lose switch %:  0.3\n",
            "Win No switch %:  0.0\n",
            "Lose No switch %:  0.0\n"
          ],
          "name": "stdout"
        }
      ]
    },
    {
      "cell_type": "code",
      "metadata": {
        "id": "6KBO_f_5oJHH"
      },
      "source": [
        "#We need bigger sample size, copy the month hall method without print so it can run faster\n",
        "#Create a function to simulate the game\n",
        "def monty_hall_game2(switch, num_tests):\n",
        "  #number of win count when player chose to switch\n",
        "  win_switch_cnt = 0\n",
        "  win_no_switch_cnt = 0\n",
        "  #number of lose coount when player chose to switch\n",
        "  lose_switch_cnt = 0\n",
        "  lose_no_switch_cnt = 0\n",
        "\n",
        "  doors = [0,1,2]\n",
        "  num_doors = len(doors)\n",
        "\n",
        "  #Loop through the number of times the contestant can play the game\n",
        "  for i in range(0, num_tests):\n",
        "    door_with_prize = random.randint(0, num_doors-1) #Randomly choose a door between 0 and 2\n",
        "    host = door_with_prize\n",
        "\n",
        "    player_choice = random.randint(0, num_doors-1)\n",
        "    original_player_choice = player_choice\n",
        "\n",
        "    shown_door = get_non_prize_door(host, num_doors, player_choice)\n",
        "\n",
        "    #If the player chooses to always switch, then allow the player to switch \n",
        "    #their original chosen door to the unopened door\n",
        "    if switch == True:\n",
        "      player_choice = switch_function(shown_door, num_doors, player_choice)\n",
        "\n",
        "    if player_choice == door_with_prize and switch == False:\n",
        "      #Then the player wins from not switching\n",
        "      #print('Player Wins (No Switch) - The player chose door:', player_choice, 'Original door choice:', original_player_choice, 'Door contains Prize:', door_with_prize, 'Shown Door:', shown_door)\n",
        "      win_no_switch_cnt = win_no_switch_cnt + 1\n",
        "    elif player_choice == door_with_prize and switch == True:\n",
        "      #Then the player wins from switching\n",
        "      #print('Player Wins (Switch) - The player chose door:', player_choice, 'Original door choice:', original_player_choice, 'Door contains Prize:', door_with_prize, 'Shown Door:', shown_door)\n",
        "      win_switch_cnt = win_switch_cnt + 1\n",
        "    elif player_choice != door_with_prize and switch == False:\n",
        "      #Then the player lost from not switching\n",
        "      #print('player lose (No Switch) - The player chose door:', player_choice, 'Original door choice:', original_player_choice, 'Door contains Prize:', door_with_prize, 'Shown Door:', shown_door)\n",
        "      lose_no_switch_cnt = lose_no_switch_cnt + 1\n",
        "    elif player_choice != door_with_prize and switch == True:\n",
        "      #Then the player lost from switching\n",
        "      #print('player lose (Switch) - The player chose door:', player_choice, 'Original door choice:', original_player_choice, 'Door contains Prize:', door_with_prize, 'Shown Door:', shown_door)\n",
        "      lose_switch_cnt = lose_switch_cnt + 1\n",
        "    else:\n",
        "      print('SOMETHING IS WRONG')\n",
        "\n",
        "  return win_no_switch_cnt, win_switch_cnt, lose_no_switch_cnt, lose_switch_cnt, num_tests"
      ],
      "execution_count": 22,
      "outputs": []
    },
    {
      "cell_type": "code",
      "metadata": {
        "id": "CPw3nWq0pUIK"
      },
      "source": [
        "#Run for 2000 then 10000\n",
        "x = monty_hall_game2(True, 10000)"
      ],
      "execution_count": 25,
      "outputs": []
    },
    {
      "cell_type": "code",
      "metadata": {
        "colab": {
          "base_uri": "https://localhost:8080/"
        },
        "id": "2D6kemzfpkt2",
        "outputId": "0c549be2-b22f-42c7-c3b3-019db8d9e34c"
      },
      "source": [
        "#Get the win and lost percentage for switching and not switching\n",
        "print('Win switch %: ', x[1]/x[4])\n",
        "print('Lose switch %: ', x[3]/x[4])\n",
        "print('Win No switch %: ', x[0]/x[4])\n",
        "print('Lose No switch %: ', x[2]/x[4])"
      ],
      "execution_count": 26,
      "outputs": [
        {
          "output_type": "stream",
          "text": [
            "Win switch %:  0.6641\n",
            "Lose switch %:  0.3359\n",
            "Win No switch %:  0.0\n",
            "Lose No switch %:  0.0\n"
          ],
          "name": "stdout"
        }
      ]
    },
    {
      "cell_type": "code",
      "metadata": {
        "id": "OcqCVvSBpxX-"
      },
      "source": [
        "#Get the data to create a visualization of the number of the simulated tests/games played\n",
        "# and the percentage of wins fron always switching\n",
        "\n",
        "num_tests = []\n",
        "win_percentage = []\n",
        "switch = True\n",
        "#Run up to 2000/10000 simulated games\n",
        "for i in range(1, 10001):\n",
        "  num_tests.append(i)\n",
        "  y = monty_hall_game2(switch,i)\n",
        "  win_percentage.append(y[1]/y[4])"
      ],
      "execution_count": 32,
      "outputs": []
    },
    {
      "cell_type": "code",
      "metadata": {
        "colab": {
          "base_uri": "https://localhost:8080/",
          "height": 323
        },
        "id": "QMtvQhLaqrsK",
        "outputId": "436610c6-0275-4c13-f30b-09d1513ac6d9"
      },
      "source": [
        "#Visually show the number of tests and the win percentage from always switching\n",
        "plt.figure(figsize=(12.2,4.5))\n",
        "plt.plot(num_tests, win_percentage)\n",
        "plt.title('Monty Hall Simuation')\n",
        "plt.xlabel('Number of Tests')\n",
        "plt.ylabel('Win Percentage')\n",
        "plt.show()"
      ],
      "execution_count": 33,
      "outputs": [
        {
          "output_type": "display_data",
          "data": {
            "image/png": "[encoded data removed]",
            "text/plain": [
              "<Figure size 878.4x324 with 1 Axes>"
            ]
          },
          "metadata": {
            "tags": [],
            "needs_background": "light"
          }
        }
      ]
    },
    {
      "cell_type": "code",
      "metadata": {
        "colab": {
          "base_uri": "https://localhost:8080/"
        },
        "id": "D7nw6jqtrR0E",
        "outputId": "1e442221-41fc-43b3-a91e-757f6cc07e81"
      },
      "source": [
        "print('The win percentage for test playing', y[4], 'games is:', y[1]/y[4] * 100, '%')"
      ],
      "execution_count": 34,
      "outputs": [
        {
          "output_type": "stream",
          "text": [
            "The win percentage for test playing 10000 games is: 66.69 %\n"
          ],
          "name": "stdout"
        }
      ]
    },
    {
      "cell_type": "code",
      "metadata": {
        "id": "8nLu1oabqrtu"
      },
      "source": [
        ""
      ],
      "execution_count": null,
      "outputs": []
    }
  ]
}